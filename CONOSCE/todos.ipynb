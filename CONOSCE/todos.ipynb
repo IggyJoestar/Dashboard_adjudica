{
 "cells": [
  {
   "cell_type": "markdown",
   "id": "2ef37724",
   "metadata": {},
   "source": [
    "### Funciones"
   ]
  },
  {
   "cell_type": "code",
   "execution_count": 2,
   "id": "8d517887",
   "metadata": {},
   "outputs": [],
   "source": [
    "import polars as pl\n",
    "import re\n",
    "import glob\n",
    "\n",
    "def contar_valores_repetidos(df: pl.DataFrame, columna: str):\n",
    "    # Número de valores únicos\n",
    "    num_unicos = df[columna].n_unique()\n",
    "    print(f\"Número de valores únicos en '{columna}': {num_unicos}\")\n",
    "\n",
    "    # Conteo de valores repetidos\n",
    "    conteo = (\n",
    "        df.group_by(columna)\n",
    "          .count()\n",
    "          .sort(\"count\", descending=True)\n",
    "    )\n",
    "    print(f\"Conteo de valores repetidos en '{columna}':\")\n",
    "    print(conteo)\n",
    "    return conteo\n",
    "\n",
    "\n",
    "def eliminar_filas_invalidas(df: pl.DataFrame) -> pl.DataFrame:\n",
    "    # Asegurar que las columnas de fecha estén en formato de fecha\n",
    "    df = df.with_columns([\n",
    "        pl.col('fecha_convocatoria').cast(pl.Date),\n",
    "        pl.col('fecha_buenapro').cast(pl.Date),\n",
    "        pl.col('fecha_consentimiento_bp').cast(pl.Date)\n",
    "    ])\n",
    "\n",
    "    # Condiciones de validez\n",
    "    condiciones_validas = (\n",
    "        (pl.col('fecha_convocatoria') <= pl.col('fecha_buenapro')) &\n",
    "        (pl.col('fecha_convocatoria') <= pl.col('fecha_consentimiento_bp')) &\n",
    "        (pl.col('fecha_buenapro') <= pl.col('fecha_consentimiento_bp'))\n",
    "    )\n",
    "\n",
    "    # Contar antes de filtrar\n",
    "    filas_antes = df.height\n",
    "\n",
    "    # Aplicar filtro\n",
    "    df_filtrado = df.filter(condiciones_validas)\n",
    "\n",
    "    # Contar después de filtrar\n",
    "    filas_despues = df_filtrado.height\n",
    "    eliminadas = filas_antes - filas_despues\n",
    "\n",
    "    print(f\"✅ Filas eliminadas por inconsistencia de fechas: {eliminadas}\")\n",
    "    return df_filtrado\n",
    "\n",
    "def agregar_diferencias_de_fecha(df: pl.DataFrame) -> pl.DataFrame:\n",
    "    # Asegurar formato fecha\n",
    "    df = df.with_columns([\n",
    "        pl.col('fecha_convocatoria').cast(pl.Date),\n",
    "        pl.col('fecha_buenapro').cast(pl.Date),\n",
    "        pl.col('fecha_consentimiento_bp').cast(pl.Date)\n",
    "    ])\n",
    "\n",
    "    # Crear columnas de diferencias en días\n",
    "    df = df.with_columns([\n",
    "        (pl.col('fecha_buenapro') - pl.col('fecha_convocatoria')).dt.days().alias('f_convo_buenapro'),\n",
    "        (pl.col('fecha_consentimiento_bp') - pl.col('fecha_buenapro')).dt.days().alias('f_buenapro_consentimiento')\n",
    "    ])\n",
    "\n",
    "    return df\n",
    "\n",
    "def agregar_diferencias_de_fecha(df: pl.DataFrame) -> pl.DataFrame:\n",
    "    df = df.with_columns([\n",
    "        (pl.col('fecha_buenapro') - pl.col('fecha_convocatoria')).alias('f_convo_buenapro'),\n",
    "        (pl.col('fecha_consentimiento_bp') - pl.col('fecha_buenapro')).alias('f_buenapro_consentimiento')\n",
    "    ])\n",
    "\n",
    "    return df\n"
   ]
  },
  {
   "cell_type": "markdown",
   "id": "07457551",
   "metadata": {},
   "source": [
    "### Carga de datos"
   ]
  },
  {
   "cell_type": "code",
   "execution_count": 12,
   "id": "35428c13",
   "metadata": {},
   "outputs": [
    {
     "name": "stderr",
     "output_type": "stream",
     "text": [
      "C:\\Users\\abrah\\AppData\\Local\\Temp\\ipykernel_7596\\3906365100.py:41: DeprecationWarning: `GroupBy.count` was renamed; use `GroupBy.len` instead\n",
      "  conteo_ids = df_filtrado.group_by(\"id\").count().sort(\"count\", descending=True)\n"
     ]
    }
   ],
   "source": [
    "# Lista de rutas de tus archivos\n",
    "rutas = [\n",
    "    \"Data/CONOSCE_ADJUDICACIONES2018_0.xlsx\",\n",
    "    \"Data/CONOSCE_ADJUDICACIONES2019_0.xlsx\",\n",
    "    \"Data/CONOSCE_ADJUDICACIONES2020_0.xlsx\",\n",
    "    \"Data/CONOSCE_ADJUDICACIONES2021_0.xlsx\",\n",
    "    \"Data/CONOSCE_ADJUDICACIONES2022_0.xlsx\",\n",
    "    \"Data/CONOSCE_ADJUDICACIONES2023_0.xlsx\",\n",
    "    \"Data/CONOSCE_ADJUDICACIONES2024_0.xlsx\",\n",
    "]\n",
    "\n",
    "# Lista para guardar cada DataFrame con año\n",
    "dataframes = []\n",
    "\n",
    "for ruta in rutas:\n",
    "    try:\n",
    "        df = pl.read_excel(ruta)\n",
    "\n",
    "        # Extraer el año del nombre del archivo\n",
    "        match = re.search(r\"(\\d{4})\", ruta)\n",
    "        year = int(match.group(1)) if match else None\n",
    "\n",
    "        # Agregar columnas: id y year\n",
    "        df = df.with_columns([\n",
    "            pl.concat_str([\"descripcion_item\", \"entidad\", \"entidad_departamento\"], separator=\" \").alias(\"id\"),\n",
    "            pl.lit(year).alias(\"year\")\n",
    "        ])\n",
    "\n",
    "        dataframes.append(df)\n",
    "\n",
    "    except Exception as e:\n",
    "        print(f\"❌ Error leyendo {ruta}: {e}\")\n",
    "\n",
    "# Unir todos los DataFrames\n",
    "data_total = pl.concat(dataframes, how=\"vertical\")\n",
    "\n",
    "# Filtrar por monto adjudicado mayor a 5 millones\n",
    "df_filtrado = data_total.filter(pl.col(\"monto_adjudicado_item\") > 5_000_000)\n",
    "\n",
    "# Contar valores repetidos en la columna \"id\"\n",
    "conteo_ids = df_filtrado.group_by(\"id\").count().sort(\"count\", descending=True)\n",
    "\n",
    "# Guardar en CSV\n",
    "conteo_ids.write_csv(\"valores_repetidos_all.csv\")\n"
   ]
  },
  {
   "cell_type": "markdown",
   "id": "52f43a20",
   "metadata": {},
   "source": [
    "### Filtrado"
   ]
  },
  {
   "cell_type": "code",
   "execution_count": 13,
   "id": "d5e1fd8b",
   "metadata": {},
   "outputs": [
    {
     "name": "stdout",
     "output_type": "stream",
     "text": [
      "✅ Filas eliminadas por inconsistencia de fechas: 424\n"
     ]
    }
   ],
   "source": [
    "#nos quedamos con las columnas relevantes\n",
    "df_filtrado_more = df_filtrado.select([\n",
    "    'year',\n",
    "    'codigoconvocatoria',\n",
    "    'descripcion_item',\n",
    "    'estado_item',\n",
    "    'monto_referencial_item',\n",
    "    'monto_adjudicado_item',\n",
    "    'moneda',\n",
    "    'fecha_convocatoria',\n",
    "    'fecha_buenapro',\n",
    "    'fecha_consentimiento_bp',\n",
    "    'tipoprocesoseleccion',\n",
    "    'objetocontractual',\n",
    "    'entidad_departamento',\n",
    "    'entidad'\n",
    "])\n",
    "\n",
    "#quitar fechas inválidas\n",
    "df_limpio = eliminar_filas_invalidas(df_filtrado_more)\n",
    "# agregar diferencias de fecha\n",
    "df = agregar_diferencias_de_fecha(df_limpio)"
   ]
  },
  {
   "cell_type": "code",
   "execution_count": 14,
   "id": "721f2f49",
   "metadata": {},
   "outputs": [],
   "source": [
    "df_dias = df.with_columns([\n",
    "    pl.col(\"f_convo_buenapro\").dt.total_days().cast(pl.Int32),\n",
    "    pl.col(\"f_buenapro_consentimiento\").dt.total_days().cast(pl.Int32)\n",
    "])"
   ]
  },
  {
   "cell_type": "code",
   "execution_count": 15,
   "id": "d6ce587f",
   "metadata": {},
   "outputs": [
    {
     "data": {
      "text/html": [
       "<div><style>\n",
       ".dataframe > thead > tr,\n",
       ".dataframe > tbody > tr {\n",
       "  text-align: right;\n",
       "  white-space: pre-wrap;\n",
       "}\n",
       "</style>\n",
       "<small>shape: (10_397, 16)</small><table border=\"1\" class=\"dataframe\"><thead><tr><th>year</th><th>codigoconvocatoria</th><th>descripcion_item</th><th>estado_item</th><th>monto_referencial_item</th><th>monto_adjudicado_item</th><th>moneda</th><th>fecha_convocatoria</th><th>fecha_buenapro</th><th>fecha_consentimiento_bp</th><th>tipoprocesoseleccion</th><th>objetocontractual</th><th>entidad_departamento</th><th>entidad</th><th>f_convo_buenapro</th><th>f_buenapro_consentimiento</th></tr><tr><td>i32</td><td>i64</td><td>str</td><td>str</td><td>f64</td><td>f64</td><td>str</td><td>date</td><td>date</td><td>date</td><td>str</td><td>str</td><td>str</td><td>str</td><td>i32</td><td>i32</td></tr></thead><tbody><tr><td>2018</td><td>494521</td><td>&quot;EJECUCI¿N DEL PROYECTO: ¿MEJOR…</td><td>&quot;Contratado&quot;</td><td>7.9893e6</td><td>7.9893e6</td><td>&quot;Soles&quot;</td><td>2018-11-19</td><td>2018-12-13</td><td>2018-12-14</td><td>&quot;Procedimiento Especial de Cont…</td><td>&quot;Obra&quot;</td><td>&quot;LA LIBERTAD&quot;</td><td>&quot;MUNICIPALIDAD PROVINCIAL DE OT…</td><td>24</td><td>1</td></tr><tr><td>2018</td><td>466513</td><td>&quot;CONTRATACI¿N DE EJECUCI¿N DE O…</td><td>&quot;Contratado&quot;</td><td>6.1357e6</td><td>6.1357e6</td><td>&quot;Soles&quot;</td><td>2018-08-10</td><td>2018-11-17</td><td>2018-12-03</td><td>&quot;Licitación Pública&quot;</td><td>&quot;Obra&quot;</td><td>&quot;SAN MARTIN&quot;</td><td>&quot;GOBIERNO REGIONAL DE SAN MARTI…</td><td>99</td><td>16</td></tr><tr><td>2018</td><td>500600</td><td>&quot;EJECUCI¿N DE OBRA MEJORAMIENTO…</td><td>&quot;Contratado&quot;</td><td>5896191.2</td><td>5896191.2</td><td>&quot;Soles&quot;</td><td>2018-10-23</td><td>2018-12-20</td><td>2018-12-20</td><td>&quot;Licitación Pública&quot;</td><td>&quot;Obra&quot;</td><td>&quot;UCAYALI&quot;</td><td>&quot;GOBIERNO REGIONAL DE UCAYALI S…</td><td>58</td><td>0</td></tr><tr><td>2018</td><td>460199</td><td>&quot;ADQUISICION DEL SUMINISTRO DE …</td><td>&quot;Contratado&quot;</td><td>9.1256e6</td><td>9098223.2</td><td>&quot;Soles&quot;</td><td>2018-07-17</td><td>2018-08-17</td><td>2018-09-03</td><td>&quot;Licitación Pública&quot;</td><td>&quot;Bien&quot;</td><td>&quot;LIMA&quot;</td><td>&quot;HOSPITAL CAYETANO HEREDIA&quot;</td><td>31</td><td>17</td></tr><tr><td>2018</td><td>504515</td><td>&quot;CONTRATACI¿N DEL SERVICIO DE S…</td><td>&quot;Contratado&quot;</td><td>5.6953e6</td><td>5.6913e6</td><td>&quot;Soles&quot;</td><td>2018-12-27</td><td>2019-01-15</td><td>2019-01-23</td><td>&quot;Adjudicación Simplificada&quot;</td><td>&quot;Servicio&quot;</td><td>&quot;CUSCO&quot;</td><td>&quot;UNIVERSIDAD NACIONAL DE SAN AN…</td><td>19</td><td>8</td></tr><tr><td>&hellip;</td><td>&hellip;</td><td>&hellip;</td><td>&hellip;</td><td>&hellip;</td><td>&hellip;</td><td>&hellip;</td><td>&hellip;</td><td>&hellip;</td><td>&hellip;</td><td>&hellip;</td><td>&hellip;</td><td>&hellip;</td><td>&hellip;</td><td>&hellip;</td><td>&hellip;</td></tr><tr><td>2024</td><td>1036274</td><td>&quot;SUMINISTRO DE MEZCLA ASF¿LTICA…</td><td>&quot;Contratado&quot;</td><td>8.733e6</td><td>6.16635e6</td><td>&quot;Soles&quot;</td><td>2024-07-19</td><td>2024-09-05</td><td>2024-09-18</td><td>&quot;Licitación Pública&quot;</td><td>&quot;Bien&quot;</td><td>&quot;LIMA&quot;</td><td>&quot;MUNICIPALIDAD METROPOLITANA DE…</td><td>48</td><td>13</td></tr><tr><td>2024</td><td>985770</td><td>&quot;MEJORAMIENTO DEL SERVICIO DE H…</td><td>&quot;Contratado&quot;</td><td>1.4223e7</td><td>1.2801e7</td><td>&quot;Soles&quot;</td><td>2024-01-26</td><td>2024-06-04</td><td>2024-06-18</td><td>&quot;Licitación Pública&quot;</td><td>&quot;Obra&quot;</td><td>&quot;AREQUIPA&quot;</td><td>&quot;MUNICIPALIDAD DISTRITAL DE SAC…</td><td>130</td><td>14</td></tr><tr><td>2024</td><td>1051964</td><td>&quot;SERVICIO DE ATENCI¿N AMBULATOR…</td><td>&quot;Contratado&quot;</td><td>0.0</td><td>7914628.8</td><td>&quot;Soles&quot;</td><td>2024-09-16</td><td>2024-10-09</td><td>2024-10-10</td><td>&quot;Adjudicación Simplificada-Homo…</td><td>&quot;Servicio&quot;</td><td>&quot;LIMA&quot;</td><td>&quot;FONDO INTANGIBLE SOLIDARIO DE …</td><td>23</td><td>1</td></tr><tr><td>2024</td><td>993191</td><td>&quot;CONTRATACI¿N DE LA SUPERVISI¿N…</td><td>&quot;Contratado&quot;</td><td>9.8720e6</td><td>9.8720e6</td><td>&quot;Soles&quot;</td><td>2024-03-05</td><td>2024-04-19</td><td>2024-05-02</td><td>&quot;Concurso Público&quot;</td><td>&quot;Consultoría de Obra&quot;</td><td>&quot;LORETO&quot;</td><td>&quot;GOBIERNO REGIONAL DE LORETO - …</td><td>45</td><td>13</td></tr><tr><td>2024</td><td>1060666</td><td>&quot;¿MEJORAMIENTO DEL SERVICIO DE …</td><td>&quot;Contratado&quot;</td><td>8.6478e6</td><td>8.6478e6</td><td>&quot;Soles&quot;</td><td>2024-10-15</td><td>2024-11-22</td><td>2024-12-04</td><td>&quot;Licitación Pública&quot;</td><td>&quot;Obra&quot;</td><td>&quot;APURIMAC&quot;</td><td>&quot;MUNICIPALIDAD DISTRITAL DE OCO…</td><td>38</td><td>12</td></tr></tbody></table></div>"
      ],
      "text/plain": [
       "shape: (10_397, 16)\n",
       "┌──────┬────────────┬────────────┬────────────┬───┬────────────┬───────────┬───────────┬───────────┐\n",
       "│ year ┆ codigoconv ┆ descripcio ┆ estado_ite ┆ … ┆ entidad_de ┆ entidad   ┆ f_convo_b ┆ f_buenapr │\n",
       "│ ---  ┆ ocatoria   ┆ n_item     ┆ m          ┆   ┆ partamento ┆ ---       ┆ uenapro   ┆ o_consent │\n",
       "│ i32  ┆ ---        ┆ ---        ┆ ---        ┆   ┆ ---        ┆ str       ┆ ---       ┆ imiento   │\n",
       "│      ┆ i64        ┆ str        ┆ str        ┆   ┆ str        ┆           ┆ i32       ┆ ---       │\n",
       "│      ┆            ┆            ┆            ┆   ┆            ┆           ┆           ┆ i32       │\n",
       "╞══════╪════════════╪════════════╪════════════╪═══╪════════════╪═══════════╪═══════════╪═══════════╡\n",
       "│ 2018 ┆ 494521     ┆ EJECUCI¿N  ┆ Contratado ┆ … ┆ LA         ┆ MUNICIPAL ┆ 24        ┆ 1         │\n",
       "│      ┆            ┆ DEL        ┆            ┆   ┆ LIBERTAD   ┆ IDAD PROV ┆           ┆           │\n",
       "│      ┆            ┆ PROYECTO:  ┆            ┆   ┆            ┆ INCIAL DE ┆           ┆           │\n",
       "│      ┆            ┆ ¿MEJOR…    ┆            ┆   ┆            ┆ OT…       ┆           ┆           │\n",
       "│ 2018 ┆ 466513     ┆ CONTRATACI ┆ Contratado ┆ … ┆ SAN MARTIN ┆ GOBIERNO  ┆ 99        ┆ 16        │\n",
       "│      ┆            ┆ ¿N DE      ┆            ┆   ┆            ┆ REGIONAL  ┆           ┆           │\n",
       "│      ┆            ┆ EJECUCI¿N  ┆            ┆   ┆            ┆ DE SAN    ┆           ┆           │\n",
       "│      ┆            ┆ DE O…      ┆            ┆   ┆            ┆ MARTI…    ┆           ┆           │\n",
       "│ 2018 ┆ 500600     ┆ EJECUCI¿N  ┆ Contratado ┆ … ┆ UCAYALI    ┆ GOBIERNO  ┆ 58        ┆ 0         │\n",
       "│      ┆            ┆ DE OBRA    ┆            ┆   ┆            ┆ REGIONAL  ┆           ┆           │\n",
       "│      ┆            ┆ MEJORAMIEN ┆            ┆   ┆            ┆ DE        ┆           ┆           │\n",
       "│      ┆            ┆ TO…        ┆            ┆   ┆            ┆ UCAYALI   ┆           ┆           │\n",
       "│      ┆            ┆            ┆            ┆   ┆            ┆ S…        ┆           ┆           │\n",
       "│ 2018 ┆ 460199     ┆ ADQUISICIO ┆ Contratado ┆ … ┆ LIMA       ┆ HOSPITAL  ┆ 31        ┆ 17        │\n",
       "│      ┆            ┆ N DEL      ┆            ┆   ┆            ┆ CAYETANO  ┆           ┆           │\n",
       "│      ┆            ┆ SUMINISTRO ┆            ┆   ┆            ┆ HEREDIA   ┆           ┆           │\n",
       "│      ┆            ┆ DE …       ┆            ┆   ┆            ┆           ┆           ┆           │\n",
       "│ 2018 ┆ 504515     ┆ CONTRATACI ┆ Contratado ┆ … ┆ CUSCO      ┆ UNIVERSID ┆ 19        ┆ 8         │\n",
       "│      ┆            ┆ ¿N DEL     ┆            ┆   ┆            ┆ AD        ┆           ┆           │\n",
       "│      ┆            ┆ SERVICIO   ┆            ┆   ┆            ┆ NACIONAL  ┆           ┆           │\n",
       "│      ┆            ┆ DE S…      ┆            ┆   ┆            ┆ DE SAN    ┆           ┆           │\n",
       "│      ┆            ┆            ┆            ┆   ┆            ┆ AN…       ┆           ┆           │\n",
       "│ …    ┆ …          ┆ …          ┆ …          ┆ … ┆ …          ┆ …         ┆ …         ┆ …         │\n",
       "│ 2024 ┆ 1036274    ┆ SUMINISTRO ┆ Contratado ┆ … ┆ LIMA       ┆ MUNICIPAL ┆ 48        ┆ 13        │\n",
       "│      ┆            ┆ DE MEZCLA  ┆            ┆   ┆            ┆ IDAD METR ┆           ┆           │\n",
       "│      ┆            ┆ ASF¿LTICA… ┆            ┆   ┆            ┆ OPOLITANA ┆           ┆           │\n",
       "│      ┆            ┆            ┆            ┆   ┆            ┆ DE…       ┆           ┆           │\n",
       "│ 2024 ┆ 985770     ┆ MEJORAMIEN ┆ Contratado ┆ … ┆ AREQUIPA   ┆ MUNICIPAL ┆ 130       ┆ 14        │\n",
       "│      ┆            ┆ TO DEL     ┆            ┆   ┆            ┆ IDAD      ┆           ┆           │\n",
       "│      ┆            ┆ SERVICIO   ┆            ┆   ┆            ┆ DISTRITAL ┆           ┆           │\n",
       "│      ┆            ┆ DE H…      ┆            ┆   ┆            ┆ DE SAC…   ┆           ┆           │\n",
       "│ 2024 ┆ 1051964    ┆ SERVICIO   ┆ Contratado ┆ … ┆ LIMA       ┆ FONDO INT ┆ 23        ┆ 1         │\n",
       "│      ┆            ┆ DE         ┆            ┆   ┆            ┆ ANGIBLE   ┆           ┆           │\n",
       "│      ┆            ┆ ATENCI¿N   ┆            ┆   ┆            ┆ SOLIDARIO ┆           ┆           │\n",
       "│      ┆            ┆ AMBULATOR… ┆            ┆   ┆            ┆ DE …      ┆           ┆           │\n",
       "│ 2024 ┆ 993191     ┆ CONTRATACI ┆ Contratado ┆ … ┆ LORETO     ┆ GOBIERNO  ┆ 45        ┆ 13        │\n",
       "│      ┆            ┆ ¿N DE LA   ┆            ┆   ┆            ┆ REGIONAL  ┆           ┆           │\n",
       "│      ┆            ┆ SUPERVISI¿ ┆            ┆   ┆            ┆ DE LORETO ┆           ┆           │\n",
       "│      ┆            ┆ N…         ┆            ┆   ┆            ┆ - …       ┆           ┆           │\n",
       "│ 2024 ┆ 1060666    ┆ ¿MEJORAMIE ┆ Contratado ┆ … ┆ APURIMAC   ┆ MUNICIPAL ┆ 38        ┆ 12        │\n",
       "│      ┆            ┆ NTO DEL    ┆            ┆   ┆            ┆ IDAD      ┆           ┆           │\n",
       "│      ┆            ┆ SERVICIO   ┆            ┆   ┆            ┆ DISTRITAL ┆           ┆           │\n",
       "│      ┆            ┆ DE …       ┆            ┆   ┆            ┆ DE OCO…   ┆           ┆           │\n",
       "└──────┴────────────┴────────────┴────────────┴───┴────────────┴───────────┴───────────┴───────────┘"
      ]
     },
     "execution_count": 15,
     "metadata": {},
     "output_type": "execute_result"
    }
   ],
   "source": [
    "df_dias"
   ]
  },
  {
   "cell_type": "markdown",
   "id": "6cadc915",
   "metadata": {},
   "source": [
    "### Exportación"
   ]
  },
  {
   "cell_type": "code",
   "execution_count": 16,
   "id": "d0fdc8ed",
   "metadata": {},
   "outputs": [],
   "source": [
    "df_dias.write_csv(\"resultado_all.csv\")"
   ]
  }
 ],
 "metadata": {
  "kernelspec": {
   "display_name": "Selenium",
   "language": "python",
   "name": "python3"
  },
  "language_info": {
   "codemirror_mode": {
    "name": "ipython",
    "version": 3
   },
   "file_extension": ".py",
   "mimetype": "text/x-python",
   "name": "python",
   "nbconvert_exporter": "python",
   "pygments_lexer": "ipython3",
   "version": "3.13.3"
  }
 },
 "nbformat": 4,
 "nbformat_minor": 5
}
