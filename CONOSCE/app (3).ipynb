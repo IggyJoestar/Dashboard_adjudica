{
 "cells": [
  {
   "cell_type": "code",
   "execution_count": 25,
   "id": "2f352023",
   "metadata": {},
   "outputs": [],
   "source": [
    "import polars as pl"
   ]
  },
  {
   "cell_type": "markdown",
   "id": "8c7e4fdf",
   "metadata": {},
   "source": [
    "### Funciones"
   ]
  },
  {
   "cell_type": "code",
   "execution_count": null,
   "id": "26b50287",
   "metadata": {},
   "outputs": [],
   "source": [
    "def contar_valores_repetidos(df: pl.DataFrame, columna: str):\n",
    "    # Número de valores únicos\n",
    "    num_unicos = df[columna].n_unique()\n",
    "    print(f\"Número de valores únicos en '{columna}': {num_unicos}\")\n",
    "\n",
    "    # Conteo de valores repetidos\n",
    "    conteo = (\n",
    "        df.group_by(columna)\n",
    "          .count()\n",
    "          .sort(\"count\", descending=True)\n",
    "    )\n",
    "    print(f\"Conteo de valores repetidos en '{columna}':\")\n",
    "    print(conteo)\n",
    "    return conteo\n",
    "\n",
    "\n",
    "def eliminar_filas_invalidas(df: pl.DataFrame) -> pl.DataFrame:\n",
    "    # Asegurar que las columnas de fecha estén en formato de fecha\n",
    "    df = df.with_columns([\n",
    "        pl.col('fecha_convocatoria').cast(pl.Date),\n",
    "        pl.col('fecha_buenapro').cast(pl.Date),\n",
    "        pl.col('fecha_consentimiento_bp').cast(pl.Date)\n",
    "    ])\n",
    "\n",
    "    # Condiciones de validez\n",
    "    condiciones_validas = (\n",
    "        (pl.col('fecha_convocatoria') <= pl.col('fecha_buenapro')) &\n",
    "        (pl.col('fecha_convocatoria') <= pl.col('fecha_consentimiento_bp')) &\n",
    "        (pl.col('fecha_buenapro') <= pl.col('fecha_consentimiento_bp'))\n",
    "    )\n",
    "\n",
    "    # Contar antes de filtrar\n",
    "    filas_antes = df.height\n",
    "\n",
    "    # Aplicar filtro\n",
    "    df_filtrado = df.filter(condiciones_validas)\n",
    "\n",
    "    # Contar después de filtrar\n",
    "    filas_despues = df_filtrado.height\n",
    "    eliminadas = filas_antes - filas_despues\n",
    "\n",
    "    print(f\"✅ Filas eliminadas por inconsistencia de fechas: {eliminadas}\")\n",
    "    return df_filtrado\n",
    "\n",
    "def agregar_diferencias_de_fecha(df: pl.DataFrame) -> pl.DataFrame:\n",
    "    # Asegurar formato fecha\n",
    "    df = df.with_columns([\n",
    "        pl.col('fecha_convocatoria').cast(pl.Date),\n",
    "        pl.col('fecha_buenapro').cast(pl.Date),\n",
    "        pl.col('fecha_consentimiento_bp').cast(pl.Date)\n",
    "    ])\n",
    "\n",
    "    # Crear columnas de diferencias en días\n",
    "    df = df.with_columns([\n",
    "        (pl.col('fecha_buenapro') - pl.col('fecha_convocatoria')).dt.days().alias('f_convo_buenapro'),\n",
    "        (pl.col('fecha_consentimiento_bp') - pl.col('fecha_buenapro')).dt.days().alias('f_buenapro_consentimiento')\n",
    "    ])\n",
    "\n",
    "    return df"
   ]
  },
  {
   "cell_type": "code",
   "execution_count": null,
   "id": "ef081227",
   "metadata": {},
   "outputs": [
    {
     "name": "stdout",
     "output_type": "stream",
     "text": [
      "Número de valores únicos en 'id': 1267\n",
      "Conteo de valores repetidos en 'id':\n",
      "shape: (1_267, 2)\n",
      "┌─────────────────────────────────┬───────┐\n",
      "│ id                              ┆ count │\n",
      "│ ---                             ┆ ---   │\n",
      "│ str                             ┆ u32   │\n",
      "╞═════════════════════════════════╪═══════╡\n",
      "│ EJECUCION DE LA OBRA CREACION … ┆ 2     │\n",
      "│ UNIFORME DE DAMAS MINISTERIO P… ┆ 2     │\n",
      "│ EJECUCION DEL SALDO DE OBRA : … ┆ 2     │\n",
      "│ EJECUCION DE LA OBRA MEJORAMIE… ┆ 2     │\n",
      "│ EJECUCI¿N DE LA OBRA: CONSTRUC… ┆ 2     │\n",
      "│ …                               ┆ …     │\n",
      "│ MEJORAMIENTO Y REHABILITACI¿N … ┆ 1     │\n",
      "│ MEJORAMIENTO DE LOS SERVICIOS … ┆ 1     │\n",
      "│ CONTRATACI¿N DE LA EJECUCI¿N D… ┆ 1     │\n",
      "│ SERVICIO DE SEGURIDAD Y VIGILA… ┆ 1     │\n",
      "│ MEJORAMIENTO Y AMPLIACION DEL … ┆ 1     │\n",
      "└─────────────────────────────────┴───────┘\n"
     ]
    },
    {
     "name": "stderr",
     "output_type": "stream",
     "text": [
      "C:\\Users\\abrah\\AppData\\Local\\Temp\\ipykernel_31112\\1363213197.py:11: DeprecationWarning: `GroupBy.count` was renamed; use `GroupBy.len` instead\n",
      "  .count()\n"
     ]
    }
   ],
   "source": [
    "import polars as pl\n",
    "import re\n",
    "\n",
    "# Ruta del archivo\n",
    "ruta_archivo1 = \"Data/CONOSCE_ADJUDICACIONES2018_0.xlsx\"\n",
    "ruta_archivo2 = \"Data/CONOSCE_ADJUDICACIONES2019_0.xlsx\"\n",
    "ruta_archivo3 = \"Data/CONOSCE_ADJUDICACIONES2020_0.xlsx\"\n",
    "ruta_archivo4 = \"Data/CONOSCE_ADJUDICACIONES2021_0.xlsx\"\n",
    "ruta_archivo5 = \"Data/CONOSCE_ADJUDICACIONES2022_0.xlsx\"\n",
    "ruta_archivo6 = \"Data/CONOSCE_ADJUDICACIONES2023_0.xlsx\"\n",
    "ruta_archivo7 = \"Data/CONOSCE_ADJUDICACIONES2024_0.xlsx\"\n",
    "\n",
    "# Leer el archivo Excel\n",
    "data = pl.read_excel(ruta_archivo)\n",
    "\n",
    "# Extraer el año del nombre del archivo usando regex\n",
    "match = re.search(r\"(\\d{4})\", ruta_archivo)\n",
    "year = int(match.group(1)) if match else None\n",
    "\n",
    "# Agregar columna 'id' y nueva columna 'year'\n",
    "data = data.with_columns([\n",
    "    pl.concat_str([\"descripcion_item\", \"entidad\", \"entidad_departamento\"], separator=\" \").alias(\"id\"),\n",
    "    pl.lit(year).alias(\"year\")\n",
    "])\n",
    "\n",
    "# Definiendo el umbral\n",
    "df_filtrado = data.filter(pl.col(\"monto_adjudicado_item\") > 5_000_000)\n",
    "\n",
    "# Contar valores únicos\n",
    "conteo_ids = contar_valores_repetidos(df_filtrado, \"id\")\n",
    "#guardando en un archivo CSV\n",
    "conteo_ids.write_csv(\"valores_repetidos.csv\")"
   ]
  },
  {
   "cell_type": "markdown",
   "id": "ea116858",
   "metadata": {},
   "source": [
    "# FILTRADO por las columnas que vamos a usar"
   ]
  },
  {
   "cell_type": "code",
   "execution_count": 28,
   "id": "f3edd8a0",
   "metadata": {},
   "outputs": [],
   "source": [
    "df_filtrado_more = df_filtrado.select([\n",
    "    'year',\n",
    "    'codigoconvocatoria',\n",
    "    'descripcion_item',\n",
    "    'estado_item',\n",
    "    'monto_referencial_item',\n",
    "    'monto_adjudicado_item',\n",
    "    'moneda',\n",
    "    'fecha_convocatoria',\n",
    "    'fecha_buenapro',\n",
    "    'fecha_consentimiento_bp',\n",
    "    'tipoprocesoseleccion',\n",
    "    'objetocontractual',\n",
    "    'entidad_departamento',\n",
    "    'entidad'\n",
    "])"
   ]
  },
  {
   "cell_type": "code",
   "execution_count": 29,
   "id": "da921515",
   "metadata": {},
   "outputs": [
    {
     "data": {
      "text/html": [
       "<div><style>\n",
       ".dataframe > thead > tr,\n",
       ".dataframe > tbody > tr {\n",
       "  text-align: right;\n",
       "  white-space: pre-wrap;\n",
       "}\n",
       "</style>\n",
       "<small>shape: (1_273, 14)</small><table border=\"1\" class=\"dataframe\"><thead><tr><th>year</th><th>codigoconvocatoria</th><th>descripcion_item</th><th>estado_item</th><th>monto_referencial_item</th><th>monto_adjudicado_item</th><th>moneda</th><th>fecha_convocatoria</th><th>fecha_buenapro</th><th>fecha_consentimiento_bp</th><th>tipoprocesoseleccion</th><th>objetocontractual</th><th>entidad_departamento</th><th>entidad</th></tr><tr><td>i32</td><td>i64</td><td>str</td><td>str</td><td>f64</td><td>f64</td><td>str</td><td>date</td><td>date</td><td>date</td><td>str</td><td>str</td><td>str</td><td>str</td></tr></thead><tbody><tr><td>2018</td><td>494521</td><td>&quot;EJECUCI¿N DEL PROYECTO: ¿MEJOR…</td><td>&quot;Contratado&quot;</td><td>7.9893e6</td><td>7.9893e6</td><td>&quot;Soles&quot;</td><td>2018-11-19</td><td>2018-12-13</td><td>2018-12-14</td><td>&quot;Procedimiento Especial de Cont…</td><td>&quot;Obra&quot;</td><td>&quot;LA LIBERTAD&quot;</td><td>&quot;MUNICIPALIDAD PROVINCIAL DE OT…</td></tr><tr><td>2018</td><td>466513</td><td>&quot;CONTRATACI¿N DE EJECUCI¿N DE O…</td><td>&quot;Contratado&quot;</td><td>6.1357e6</td><td>6.1357e6</td><td>&quot;Soles&quot;</td><td>2018-08-10</td><td>2018-11-17</td><td>2018-12-03</td><td>&quot;Licitación Pública&quot;</td><td>&quot;Obra&quot;</td><td>&quot;SAN MARTIN&quot;</td><td>&quot;GOBIERNO REGIONAL DE SAN MARTI…</td></tr><tr><td>2018</td><td>500600</td><td>&quot;EJECUCI¿N DE OBRA MEJORAMIENTO…</td><td>&quot;Contratado&quot;</td><td>5896191.2</td><td>5896191.2</td><td>&quot;Soles&quot;</td><td>2018-10-23</td><td>2018-12-20</td><td>2018-12-20</td><td>&quot;Licitación Pública&quot;</td><td>&quot;Obra&quot;</td><td>&quot;UCAYALI&quot;</td><td>&quot;GOBIERNO REGIONAL DE UCAYALI S…</td></tr><tr><td>2018</td><td>460199</td><td>&quot;ADQUISICION DEL SUMINISTRO DE …</td><td>&quot;Contratado&quot;</td><td>9.1256e6</td><td>9098223.2</td><td>&quot;Soles&quot;</td><td>2018-07-17</td><td>2018-08-17</td><td>2018-09-03</td><td>&quot;Licitación Pública&quot;</td><td>&quot;Bien&quot;</td><td>&quot;LIMA&quot;</td><td>&quot;HOSPITAL CAYETANO HEREDIA&quot;</td></tr><tr><td>2018</td><td>504515</td><td>&quot;CONTRATACI¿N DEL SERVICIO DE S…</td><td>&quot;Contratado&quot;</td><td>5.6953e6</td><td>5.6913e6</td><td>&quot;Soles&quot;</td><td>2018-12-27</td><td>2019-01-15</td><td>2019-01-23</td><td>&quot;Adjudicación Simplificada&quot;</td><td>&quot;Servicio&quot;</td><td>&quot;CUSCO&quot;</td><td>&quot;UNIVERSIDAD NACIONAL DE SAN AN…</td></tr><tr><td>&hellip;</td><td>&hellip;</td><td>&hellip;</td><td>&hellip;</td><td>&hellip;</td><td>&hellip;</td><td>&hellip;</td><td>&hellip;</td><td>&hellip;</td><td>&hellip;</td><td>&hellip;</td><td>&hellip;</td><td>&hellip;</td><td>&hellip;</td></tr><tr><td>2018</td><td>467305</td><td>&quot;EJECUCION DE LA OBRA: MEJORAMI…</td><td>&quot;Contratado&quot;</td><td>5.2887e6</td><td>5.2887e6</td><td>&quot;Soles&quot;</td><td>2018-07-17</td><td>2018-09-26</td><td>2018-09-27</td><td>&quot;Licitación Pública&quot;</td><td>&quot;Obra&quot;</td><td>&quot;HUANUCO&quot;</td><td>&quot;MUNICIPALIDAD DISTRITAL DE YAC…</td></tr><tr><td>2018</td><td>493464</td><td>&quot;MEJORAMIENTO DE TROCHA CARROZA…</td><td>&quot;Contratado&quot;</td><td>1.3975e7</td><td>1.2577e7</td><td>&quot;Soles&quot;</td><td>2018-11-15</td><td>2018-11-29</td><td>2018-12-04</td><td>&quot;Procedimiento Especial de Cont…</td><td>&quot;Obra&quot;</td><td>&quot;LA LIBERTAD&quot;</td><td>&quot;MUNICIPALIDAD DISTRITAL DE CAC…</td></tr><tr><td>2018</td><td>494491</td><td>&quot;EJECUCION DE OBRA: MEJORAMIENT…</td><td>&quot;Contratado&quot;</td><td>1.6903e7</td><td>1.6903e7</td><td>&quot;Soles&quot;</td><td>2018-10-05</td><td>2018-12-04</td><td>2018-12-06</td><td>&quot;Licitación Pública&quot;</td><td>&quot;Obra&quot;</td><td>&quot;UCAYALI&quot;</td><td>&quot;GOBIERNO REGIONAL DE UCAYALI S…</td></tr><tr><td>2018</td><td>435785</td><td>&quot;EJECUCION DE LA OBRA SISTEMA E…</td><td>&quot;Contratado&quot;</td><td>1.3548e7</td><td>1.3548e7</td><td>&quot;Soles&quot;</td><td>2018-03-27</td><td>2018-05-30</td><td>2018-06-12</td><td>&quot;Licitación Pública&quot;</td><td>&quot;Obra&quot;</td><td>&quot;LIMA&quot;</td><td>&quot;DIRECCION GENERAL DE ELECTRIFI…</td></tr><tr><td>2018</td><td>459431</td><td>&quot;CONSTRUCCION DE OBRA NUEVA CON…</td><td>&quot;Contratado&quot;</td><td>1.4599e7</td><td>1.4599e7</td><td>&quot;Soles&quot;</td><td>2018-04-17</td><td>2018-07-25</td><td>2018-07-26</td><td>&quot;Licitación Pública&quot;</td><td>&quot;Obra&quot;</td><td>&quot;LIMA&quot;</td><td>&quot;EMPRESA MUNICIPAL INMOBILIARIA…</td></tr></tbody></table></div>"
      ],
      "text/plain": [
       "shape: (1_273, 14)\n",
       "┌──────┬────────────┬────────────┬────────────┬───┬────────────┬───────────┬───────────┬───────────┐\n",
       "│ year ┆ codigoconv ┆ descripcio ┆ estado_ite ┆ … ┆ tipoproces ┆ objetocon ┆ entidad_d ┆ entidad   │\n",
       "│ ---  ┆ ocatoria   ┆ n_item     ┆ m          ┆   ┆ oseleccion ┆ tractual  ┆ epartamen ┆ ---       │\n",
       "│ i32  ┆ ---        ┆ ---        ┆ ---        ┆   ┆ ---        ┆ ---       ┆ to        ┆ str       │\n",
       "│      ┆ i64        ┆ str        ┆ str        ┆   ┆ str        ┆ str       ┆ ---       ┆           │\n",
       "│      ┆            ┆            ┆            ┆   ┆            ┆           ┆ str       ┆           │\n",
       "╞══════╪════════════╪════════════╪════════════╪═══╪════════════╪═══════════╪═══════════╪═══════════╡\n",
       "│ 2018 ┆ 494521     ┆ EJECUCI¿N  ┆ Contratado ┆ … ┆ Procedimie ┆ Obra      ┆ LA        ┆ MUNICIPAL │\n",
       "│      ┆            ┆ DEL        ┆            ┆   ┆ nto        ┆           ┆ LIBERTAD  ┆ IDAD PROV │\n",
       "│      ┆            ┆ PROYECTO:  ┆            ┆   ┆ Especial   ┆           ┆           ┆ INCIAL DE │\n",
       "│      ┆            ┆ ¿MEJOR…    ┆            ┆   ┆ de Cont…   ┆           ┆           ┆ OT…       │\n",
       "│ 2018 ┆ 466513     ┆ CONTRATACI ┆ Contratado ┆ … ┆ Licitación ┆ Obra      ┆ SAN       ┆ GOBIERNO  │\n",
       "│      ┆            ┆ ¿N DE      ┆            ┆   ┆ Pública    ┆           ┆ MARTIN    ┆ REGIONAL  │\n",
       "│      ┆            ┆ EJECUCI¿N  ┆            ┆   ┆            ┆           ┆           ┆ DE SAN    │\n",
       "│      ┆            ┆ DE O…      ┆            ┆   ┆            ┆           ┆           ┆ MARTI…    │\n",
       "│ 2018 ┆ 500600     ┆ EJECUCI¿N  ┆ Contratado ┆ … ┆ Licitación ┆ Obra      ┆ UCAYALI   ┆ GOBIERNO  │\n",
       "│      ┆            ┆ DE OBRA    ┆            ┆   ┆ Pública    ┆           ┆           ┆ REGIONAL  │\n",
       "│      ┆            ┆ MEJORAMIEN ┆            ┆   ┆            ┆           ┆           ┆ DE        │\n",
       "│      ┆            ┆ TO…        ┆            ┆   ┆            ┆           ┆           ┆ UCAYALI   │\n",
       "│      ┆            ┆            ┆            ┆   ┆            ┆           ┆           ┆ S…        │\n",
       "│ 2018 ┆ 460199     ┆ ADQUISICIO ┆ Contratado ┆ … ┆ Licitación ┆ Bien      ┆ LIMA      ┆ HOSPITAL  │\n",
       "│      ┆            ┆ N DEL      ┆            ┆   ┆ Pública    ┆           ┆           ┆ CAYETANO  │\n",
       "│      ┆            ┆ SUMINISTRO ┆            ┆   ┆            ┆           ┆           ┆ HEREDIA   │\n",
       "│      ┆            ┆ DE …       ┆            ┆   ┆            ┆           ┆           ┆           │\n",
       "│ 2018 ┆ 504515     ┆ CONTRATACI ┆ Contratado ┆ … ┆ Adjudicaci ┆ Servicio  ┆ CUSCO     ┆ UNIVERSID │\n",
       "│      ┆            ┆ ¿N DEL     ┆            ┆   ┆ ón Simplif ┆           ┆           ┆ AD        │\n",
       "│      ┆            ┆ SERVICIO   ┆            ┆   ┆ icada      ┆           ┆           ┆ NACIONAL  │\n",
       "│      ┆            ┆ DE S…      ┆            ┆   ┆            ┆           ┆           ┆ DE SAN    │\n",
       "│      ┆            ┆            ┆            ┆   ┆            ┆           ┆           ┆ AN…       │\n",
       "│ …    ┆ …          ┆ …          ┆ …          ┆ … ┆ …          ┆ …         ┆ …         ┆ …         │\n",
       "│ 2018 ┆ 467305     ┆ EJECUCION  ┆ Contratado ┆ … ┆ Licitación ┆ Obra      ┆ HUANUCO   ┆ MUNICIPAL │\n",
       "│      ┆            ┆ DE LA      ┆            ┆   ┆ Pública    ┆           ┆           ┆ IDAD      │\n",
       "│      ┆            ┆ OBRA:      ┆            ┆   ┆            ┆           ┆           ┆ DISTRITAL │\n",
       "│      ┆            ┆ MEJORAMI…  ┆            ┆   ┆            ┆           ┆           ┆ DE YAC…   │\n",
       "│ 2018 ┆ 493464     ┆ MEJORAMIEN ┆ Contratado ┆ … ┆ Procedimie ┆ Obra      ┆ LA        ┆ MUNICIPAL │\n",
       "│      ┆            ┆ TO DE      ┆            ┆   ┆ nto        ┆           ┆ LIBERTAD  ┆ IDAD      │\n",
       "│      ┆            ┆ TROCHA     ┆            ┆   ┆ Especial   ┆           ┆           ┆ DISTRITAL │\n",
       "│      ┆            ┆ CARROZA…   ┆            ┆   ┆ de Cont…   ┆           ┆           ┆ DE CAC…   │\n",
       "│ 2018 ┆ 494491     ┆ EJECUCION  ┆ Contratado ┆ … ┆ Licitación ┆ Obra      ┆ UCAYALI   ┆ GOBIERNO  │\n",
       "│      ┆            ┆ DE OBRA:   ┆            ┆   ┆ Pública    ┆           ┆           ┆ REGIONAL  │\n",
       "│      ┆            ┆ MEJORAMIEN ┆            ┆   ┆            ┆           ┆           ┆ DE        │\n",
       "│      ┆            ┆ T…         ┆            ┆   ┆            ┆           ┆           ┆ UCAYALI   │\n",
       "│      ┆            ┆            ┆            ┆   ┆            ┆           ┆           ┆ S…        │\n",
       "│ 2018 ┆ 435785     ┆ EJECUCION  ┆ Contratado ┆ … ┆ Licitación ┆ Obra      ┆ LIMA      ┆ DIRECCION │\n",
       "│      ┆            ┆ DE LA OBRA ┆            ┆   ┆ Pública    ┆           ┆           ┆ GENERAL   │\n",
       "│      ┆            ┆ SISTEMA E… ┆            ┆   ┆            ┆           ┆           ┆ DE ELECTR │\n",
       "│      ┆            ┆            ┆            ┆   ┆            ┆           ┆           ┆ IFI…      │\n",
       "│ 2018 ┆ 459431     ┆ CONSTRUCCI ┆ Contratado ┆ … ┆ Licitación ┆ Obra      ┆ LIMA      ┆ EMPRESA   │\n",
       "│      ┆            ┆ ON DE OBRA ┆            ┆   ┆ Pública    ┆           ┆           ┆ MUNICIPAL │\n",
       "│      ┆            ┆ NUEVA CON… ┆            ┆   ┆            ┆           ┆           ┆ INMOBILIA │\n",
       "│      ┆            ┆            ┆            ┆   ┆            ┆           ┆           ┆ RIA…      │\n",
       "└──────┴────────────┴────────────┴────────────┴───┴────────────┴───────────┴───────────┴───────────┘"
      ]
     },
     "execution_count": 29,
     "metadata": {},
     "output_type": "execute_result"
    }
   ],
   "source": [
    "df_filtrado_more"
   ]
  },
  {
   "cell_type": "markdown",
   "id": "37185b0d",
   "metadata": {},
   "source": [
    "## Stop"
   ]
  },
  {
   "cell_type": "code",
   "execution_count": 30,
   "id": "9c4fb623",
   "metadata": {},
   "outputs": [
    {
     "name": "stdout",
     "output_type": "stream",
     "text": [
      "✅ Filas eliminadas por inconsistencia de fechas: 58\n"
     ]
    }
   ],
   "source": [
    "df_limpio = eliminar_filas_invalidas(df_filtrado_more)"
   ]
  },
  {
   "cell_type": "code",
   "execution_count": 31,
   "id": "a28ee975",
   "metadata": {},
   "outputs": [],
   "source": [
    "import polars as pl\n",
    "\n",
    "def agregar_diferencias_de_fecha(df: pl.DataFrame) -> pl.DataFrame:\n",
    "    df = df.with_columns([\n",
    "        (pl.col('fecha_buenapro') - pl.col('fecha_convocatoria')).alias('f_convo_buenapro'),\n",
    "        (pl.col('fecha_consentimiento_bp') - pl.col('fecha_buenapro')).alias('f_buenapro_consentimiento')\n",
    "    ])\n",
    "\n",
    "    return df\n"
   ]
  },
  {
   "cell_type": "code",
   "execution_count": null,
   "id": "230b44c2",
   "metadata": {},
   "outputs": [],
   "source": [
    "df = agregar_diferencias_de_fecha(df_limpio)\n"
   ]
  },
  {
   "cell_type": "code",
   "execution_count": 33,
   "id": "e9cdcf5d",
   "metadata": {},
   "outputs": [
    {
     "data": {
      "text/html": [
       "<div><style>\n",
       ".dataframe > thead > tr,\n",
       ".dataframe > tbody > tr {\n",
       "  text-align: right;\n",
       "  white-space: pre-wrap;\n",
       "}\n",
       "</style>\n",
       "<small>shape: (1_215, 16)</small><table border=\"1\" class=\"dataframe\"><thead><tr><th>year</th><th>codigoconvocatoria</th><th>descripcion_item</th><th>estado_item</th><th>monto_referencial_item</th><th>monto_adjudicado_item</th><th>moneda</th><th>fecha_convocatoria</th><th>fecha_buenapro</th><th>fecha_consentimiento_bp</th><th>tipoprocesoseleccion</th><th>objetocontractual</th><th>entidad_departamento</th><th>entidad</th><th>f_convo_buenapro</th><th>f_buenapro_consentimiento</th></tr><tr><td>i32</td><td>i64</td><td>str</td><td>str</td><td>f64</td><td>f64</td><td>str</td><td>date</td><td>date</td><td>date</td><td>str</td><td>str</td><td>str</td><td>str</td><td>duration[ms]</td><td>duration[ms]</td></tr></thead><tbody><tr><td>2018</td><td>494521</td><td>&quot;EJECUCI¿N DEL PROYECTO: ¿MEJOR…</td><td>&quot;Contratado&quot;</td><td>7.9893e6</td><td>7.9893e6</td><td>&quot;Soles&quot;</td><td>2018-11-19</td><td>2018-12-13</td><td>2018-12-14</td><td>&quot;Procedimiento Especial de Cont…</td><td>&quot;Obra&quot;</td><td>&quot;LA LIBERTAD&quot;</td><td>&quot;MUNICIPALIDAD PROVINCIAL DE OT…</td><td>24d</td><td>1d</td></tr><tr><td>2018</td><td>466513</td><td>&quot;CONTRATACI¿N DE EJECUCI¿N DE O…</td><td>&quot;Contratado&quot;</td><td>6.1357e6</td><td>6.1357e6</td><td>&quot;Soles&quot;</td><td>2018-08-10</td><td>2018-11-17</td><td>2018-12-03</td><td>&quot;Licitación Pública&quot;</td><td>&quot;Obra&quot;</td><td>&quot;SAN MARTIN&quot;</td><td>&quot;GOBIERNO REGIONAL DE SAN MARTI…</td><td>99d</td><td>16d</td></tr><tr><td>2018</td><td>500600</td><td>&quot;EJECUCI¿N DE OBRA MEJORAMIENTO…</td><td>&quot;Contratado&quot;</td><td>5896191.2</td><td>5896191.2</td><td>&quot;Soles&quot;</td><td>2018-10-23</td><td>2018-12-20</td><td>2018-12-20</td><td>&quot;Licitación Pública&quot;</td><td>&quot;Obra&quot;</td><td>&quot;UCAYALI&quot;</td><td>&quot;GOBIERNO REGIONAL DE UCAYALI S…</td><td>58d</td><td>0ms</td></tr><tr><td>2018</td><td>460199</td><td>&quot;ADQUISICION DEL SUMINISTRO DE …</td><td>&quot;Contratado&quot;</td><td>9.1256e6</td><td>9098223.2</td><td>&quot;Soles&quot;</td><td>2018-07-17</td><td>2018-08-17</td><td>2018-09-03</td><td>&quot;Licitación Pública&quot;</td><td>&quot;Bien&quot;</td><td>&quot;LIMA&quot;</td><td>&quot;HOSPITAL CAYETANO HEREDIA&quot;</td><td>31d</td><td>17d</td></tr><tr><td>2018</td><td>504515</td><td>&quot;CONTRATACI¿N DEL SERVICIO DE S…</td><td>&quot;Contratado&quot;</td><td>5.6953e6</td><td>5.6913e6</td><td>&quot;Soles&quot;</td><td>2018-12-27</td><td>2019-01-15</td><td>2019-01-23</td><td>&quot;Adjudicación Simplificada&quot;</td><td>&quot;Servicio&quot;</td><td>&quot;CUSCO&quot;</td><td>&quot;UNIVERSIDAD NACIONAL DE SAN AN…</td><td>19d</td><td>8d</td></tr><tr><td>&hellip;</td><td>&hellip;</td><td>&hellip;</td><td>&hellip;</td><td>&hellip;</td><td>&hellip;</td><td>&hellip;</td><td>&hellip;</td><td>&hellip;</td><td>&hellip;</td><td>&hellip;</td><td>&hellip;</td><td>&hellip;</td><td>&hellip;</td><td>&hellip;</td><td>&hellip;</td></tr><tr><td>2018</td><td>467305</td><td>&quot;EJECUCION DE LA OBRA: MEJORAMI…</td><td>&quot;Contratado&quot;</td><td>5.2887e6</td><td>5.2887e6</td><td>&quot;Soles&quot;</td><td>2018-07-17</td><td>2018-09-26</td><td>2018-09-27</td><td>&quot;Licitación Pública&quot;</td><td>&quot;Obra&quot;</td><td>&quot;HUANUCO&quot;</td><td>&quot;MUNICIPALIDAD DISTRITAL DE YAC…</td><td>71d</td><td>1d</td></tr><tr><td>2018</td><td>493464</td><td>&quot;MEJORAMIENTO DE TROCHA CARROZA…</td><td>&quot;Contratado&quot;</td><td>1.3975e7</td><td>1.2577e7</td><td>&quot;Soles&quot;</td><td>2018-11-15</td><td>2018-11-29</td><td>2018-12-04</td><td>&quot;Procedimiento Especial de Cont…</td><td>&quot;Obra&quot;</td><td>&quot;LA LIBERTAD&quot;</td><td>&quot;MUNICIPALIDAD DISTRITAL DE CAC…</td><td>14d</td><td>5d</td></tr><tr><td>2018</td><td>494491</td><td>&quot;EJECUCION DE OBRA: MEJORAMIENT…</td><td>&quot;Contratado&quot;</td><td>1.6903e7</td><td>1.6903e7</td><td>&quot;Soles&quot;</td><td>2018-10-05</td><td>2018-12-04</td><td>2018-12-06</td><td>&quot;Licitación Pública&quot;</td><td>&quot;Obra&quot;</td><td>&quot;UCAYALI&quot;</td><td>&quot;GOBIERNO REGIONAL DE UCAYALI S…</td><td>60d</td><td>2d</td></tr><tr><td>2018</td><td>435785</td><td>&quot;EJECUCION DE LA OBRA SISTEMA E…</td><td>&quot;Contratado&quot;</td><td>1.3548e7</td><td>1.3548e7</td><td>&quot;Soles&quot;</td><td>2018-03-27</td><td>2018-05-30</td><td>2018-06-12</td><td>&quot;Licitación Pública&quot;</td><td>&quot;Obra&quot;</td><td>&quot;LIMA&quot;</td><td>&quot;DIRECCION GENERAL DE ELECTRIFI…</td><td>64d</td><td>13d</td></tr><tr><td>2018</td><td>459431</td><td>&quot;CONSTRUCCION DE OBRA NUEVA CON…</td><td>&quot;Contratado&quot;</td><td>1.4599e7</td><td>1.4599e7</td><td>&quot;Soles&quot;</td><td>2018-04-17</td><td>2018-07-25</td><td>2018-07-26</td><td>&quot;Licitación Pública&quot;</td><td>&quot;Obra&quot;</td><td>&quot;LIMA&quot;</td><td>&quot;EMPRESA MUNICIPAL INMOBILIARIA…</td><td>99d</td><td>1d</td></tr></tbody></table></div>"
      ],
      "text/plain": [
       "shape: (1_215, 16)\n",
       "┌──────┬────────────┬────────────┬────────────┬───┬────────────┬───────────┬───────────┬───────────┐\n",
       "│ year ┆ codigoconv ┆ descripcio ┆ estado_ite ┆ … ┆ entidad_de ┆ entidad   ┆ f_convo_b ┆ f_buenapr │\n",
       "│ ---  ┆ ocatoria   ┆ n_item     ┆ m          ┆   ┆ partamento ┆ ---       ┆ uenapro   ┆ o_consent │\n",
       "│ i32  ┆ ---        ┆ ---        ┆ ---        ┆   ┆ ---        ┆ str       ┆ ---       ┆ imiento   │\n",
       "│      ┆ i64        ┆ str        ┆ str        ┆   ┆ str        ┆           ┆ duration[ ┆ ---       │\n",
       "│      ┆            ┆            ┆            ┆   ┆            ┆           ┆ ms]       ┆ duration[ │\n",
       "│      ┆            ┆            ┆            ┆   ┆            ┆           ┆           ┆ ms]       │\n",
       "╞══════╪════════════╪════════════╪════════════╪═══╪════════════╪═══════════╪═══════════╪═══════════╡\n",
       "│ 2018 ┆ 494521     ┆ EJECUCI¿N  ┆ Contratado ┆ … ┆ LA         ┆ MUNICIPAL ┆ 24d       ┆ 1d        │\n",
       "│      ┆            ┆ DEL        ┆            ┆   ┆ LIBERTAD   ┆ IDAD PROV ┆           ┆           │\n",
       "│      ┆            ┆ PROYECTO:  ┆            ┆   ┆            ┆ INCIAL DE ┆           ┆           │\n",
       "│      ┆            ┆ ¿MEJOR…    ┆            ┆   ┆            ┆ OT…       ┆           ┆           │\n",
       "│ 2018 ┆ 466513     ┆ CONTRATACI ┆ Contratado ┆ … ┆ SAN MARTIN ┆ GOBIERNO  ┆ 99d       ┆ 16d       │\n",
       "│      ┆            ┆ ¿N DE      ┆            ┆   ┆            ┆ REGIONAL  ┆           ┆           │\n",
       "│      ┆            ┆ EJECUCI¿N  ┆            ┆   ┆            ┆ DE SAN    ┆           ┆           │\n",
       "│      ┆            ┆ DE O…      ┆            ┆   ┆            ┆ MARTI…    ┆           ┆           │\n",
       "│ 2018 ┆ 500600     ┆ EJECUCI¿N  ┆ Contratado ┆ … ┆ UCAYALI    ┆ GOBIERNO  ┆ 58d       ┆ 0ms       │\n",
       "│      ┆            ┆ DE OBRA    ┆            ┆   ┆            ┆ REGIONAL  ┆           ┆           │\n",
       "│      ┆            ┆ MEJORAMIEN ┆            ┆   ┆            ┆ DE        ┆           ┆           │\n",
       "│      ┆            ┆ TO…        ┆            ┆   ┆            ┆ UCAYALI   ┆           ┆           │\n",
       "│      ┆            ┆            ┆            ┆   ┆            ┆ S…        ┆           ┆           │\n",
       "│ 2018 ┆ 460199     ┆ ADQUISICIO ┆ Contratado ┆ … ┆ LIMA       ┆ HOSPITAL  ┆ 31d       ┆ 17d       │\n",
       "│      ┆            ┆ N DEL      ┆            ┆   ┆            ┆ CAYETANO  ┆           ┆           │\n",
       "│      ┆            ┆ SUMINISTRO ┆            ┆   ┆            ┆ HEREDIA   ┆           ┆           │\n",
       "│      ┆            ┆ DE …       ┆            ┆   ┆            ┆           ┆           ┆           │\n",
       "│ 2018 ┆ 504515     ┆ CONTRATACI ┆ Contratado ┆ … ┆ CUSCO      ┆ UNIVERSID ┆ 19d       ┆ 8d        │\n",
       "│      ┆            ┆ ¿N DEL     ┆            ┆   ┆            ┆ AD        ┆           ┆           │\n",
       "│      ┆            ┆ SERVICIO   ┆            ┆   ┆            ┆ NACIONAL  ┆           ┆           │\n",
       "│      ┆            ┆ DE S…      ┆            ┆   ┆            ┆ DE SAN    ┆           ┆           │\n",
       "│      ┆            ┆            ┆            ┆   ┆            ┆ AN…       ┆           ┆           │\n",
       "│ …    ┆ …          ┆ …          ┆ …          ┆ … ┆ …          ┆ …         ┆ …         ┆ …         │\n",
       "│ 2018 ┆ 467305     ┆ EJECUCION  ┆ Contratado ┆ … ┆ HUANUCO    ┆ MUNICIPAL ┆ 71d       ┆ 1d        │\n",
       "│      ┆            ┆ DE LA      ┆            ┆   ┆            ┆ IDAD      ┆           ┆           │\n",
       "│      ┆            ┆ OBRA:      ┆            ┆   ┆            ┆ DISTRITAL ┆           ┆           │\n",
       "│      ┆            ┆ MEJORAMI…  ┆            ┆   ┆            ┆ DE YAC…   ┆           ┆           │\n",
       "│ 2018 ┆ 493464     ┆ MEJORAMIEN ┆ Contratado ┆ … ┆ LA         ┆ MUNICIPAL ┆ 14d       ┆ 5d        │\n",
       "│      ┆            ┆ TO DE      ┆            ┆   ┆ LIBERTAD   ┆ IDAD      ┆           ┆           │\n",
       "│      ┆            ┆ TROCHA     ┆            ┆   ┆            ┆ DISTRITAL ┆           ┆           │\n",
       "│      ┆            ┆ CARROZA…   ┆            ┆   ┆            ┆ DE CAC…   ┆           ┆           │\n",
       "│ 2018 ┆ 494491     ┆ EJECUCION  ┆ Contratado ┆ … ┆ UCAYALI    ┆ GOBIERNO  ┆ 60d       ┆ 2d        │\n",
       "│      ┆            ┆ DE OBRA:   ┆            ┆   ┆            ┆ REGIONAL  ┆           ┆           │\n",
       "│      ┆            ┆ MEJORAMIEN ┆            ┆   ┆            ┆ DE        ┆           ┆           │\n",
       "│      ┆            ┆ T…         ┆            ┆   ┆            ┆ UCAYALI   ┆           ┆           │\n",
       "│      ┆            ┆            ┆            ┆   ┆            ┆ S…        ┆           ┆           │\n",
       "│ 2018 ┆ 435785     ┆ EJECUCION  ┆ Contratado ┆ … ┆ LIMA       ┆ DIRECCION ┆ 64d       ┆ 13d       │\n",
       "│      ┆            ┆ DE LA OBRA ┆            ┆   ┆            ┆ GENERAL   ┆           ┆           │\n",
       "│      ┆            ┆ SISTEMA E… ┆            ┆   ┆            ┆ DE ELECTR ┆           ┆           │\n",
       "│      ┆            ┆            ┆            ┆   ┆            ┆ IFI…      ┆           ┆           │\n",
       "│ 2018 ┆ 459431     ┆ CONSTRUCCI ┆ Contratado ┆ … ┆ LIMA       ┆ EMPRESA   ┆ 99d       ┆ 1d        │\n",
       "│      ┆            ┆ ON DE OBRA ┆            ┆   ┆            ┆ MUNICIPAL ┆           ┆           │\n",
       "│      ┆            ┆ NUEVA CON… ┆            ┆   ┆            ┆ INMOBILIA ┆           ┆           │\n",
       "│      ┆            ┆            ┆            ┆   ┆            ┆ RIA…      ┆           ┆           │\n",
       "└──────┴────────────┴────────────┴────────────┴───┴────────────┴───────────┴───────────┴───────────┘"
      ]
     },
     "execution_count": 33,
     "metadata": {},
     "output_type": "execute_result"
    }
   ],
   "source": [
    "df"
   ]
  },
  {
   "cell_type": "code",
   "execution_count": 34,
   "id": "f37d8ef7",
   "metadata": {},
   "outputs": [],
   "source": [
    "df_dias = df.with_columns([\n",
    "    pl.col(\"f_convo_buenapro\").dt.total_days().cast(pl.Int32),\n",
    "    pl.col(\"f_buenapro_consentimiento\").dt.total_days().cast(pl.Int32)\n",
    "])\n"
   ]
  },
  {
   "cell_type": "code",
   "execution_count": 36,
   "id": "281a9ca3",
   "metadata": {},
   "outputs": [],
   "source": [
    "df_dias.write_csv(\"resultado.csv\")"
   ]
  }
 ],
 "metadata": {
  "kernelspec": {
   "display_name": "Selenium",
   "language": "python",
   "name": "python3"
  },
  "language_info": {
   "codemirror_mode": {
    "name": "ipython",
    "version": 3
   },
   "file_extension": ".py",
   "mimetype": "text/x-python",
   "name": "python",
   "nbconvert_exporter": "python",
   "pygments_lexer": "ipython3",
   "version": "3.13.3"
  }
 },
 "nbformat": 4,
 "nbformat_minor": 5
}
